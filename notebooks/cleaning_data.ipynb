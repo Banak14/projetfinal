{
 "cells": [
  {
   "cell_type": "markdown",
   "id": "b32109dc-a694-4128-9cd0-d07f39020ebe",
   "metadata": {},
   "source": [
    "# Load Libraries"
   ]
  },
  {
   "cell_type": "code",
   "execution_count": 4,
   "id": "c8ded056-ba18-4fe3-a7ad-947859b0c2dd",
   "metadata": {},
   "outputs": [],
   "source": [
    "# Import necessary libraries\n",
    "import pandas as pd\n",
    "import numpy as np\n",
    "from sklearn.preprocessing import LabelEncoder\n",
    "from scipy.stats import chi2_contingency"
   ]
  },
  {
   "cell_type": "markdown",
   "id": "049540b5-1031-4ccb-b660-962ef2f915d1",
   "metadata": {},
   "source": [
    "# Load dataset"
   ]
  },
  {
   "cell_type": "code",
   "execution_count": 6,
   "id": "eb3cf3ec-0128-4e59-b7a7-6d498afb9c67",
   "metadata": {},
   "outputs": [
    {
     "name": "stdout",
     "output_type": "stream",
     "text": [
      "Data Shape: (5000, 20)\n"
     ]
    },
    {
     "data": {
      "text/html": [
       "<div>\n",
       "<style scoped>\n",
       "    .dataframe tbody tr th:only-of-type {\n",
       "        vertical-align: middle;\n",
       "    }\n",
       "\n",
       "    .dataframe tbody tr th {\n",
       "        vertical-align: top;\n",
       "    }\n",
       "\n",
       "    .dataframe thead th {\n",
       "        text-align: right;\n",
       "    }\n",
       "</style>\n",
       "<table border=\"1\" class=\"dataframe\">\n",
       "  <thead>\n",
       "    <tr style=\"text-align: right;\">\n",
       "      <th></th>\n",
       "      <th>Employee_ID</th>\n",
       "      <th>Age</th>\n",
       "      <th>Gender</th>\n",
       "      <th>Job_Role</th>\n",
       "      <th>Industry</th>\n",
       "      <th>Years_of_Experience</th>\n",
       "      <th>Work_Location</th>\n",
       "      <th>Hours_Worked_Per_Week</th>\n",
       "      <th>Number_of_Virtual_Meetings</th>\n",
       "      <th>Work_Life_Balance_Rating</th>\n",
       "      <th>Stress_Level</th>\n",
       "      <th>Mental_Health_Condition</th>\n",
       "      <th>Access_to_Mental_Health_Resources</th>\n",
       "      <th>Productivity_Change</th>\n",
       "      <th>Social_Isolation_Rating</th>\n",
       "      <th>Satisfaction_with_Remote_Work</th>\n",
       "      <th>Company_Support_for_Remote_Work</th>\n",
       "      <th>Physical_Activity</th>\n",
       "      <th>Sleep_Quality</th>\n",
       "      <th>Region</th>\n",
       "    </tr>\n",
       "  </thead>\n",
       "  <tbody>\n",
       "    <tr>\n",
       "      <th>0</th>\n",
       "      <td>EMP0001</td>\n",
       "      <td>32</td>\n",
       "      <td>Non-binary</td>\n",
       "      <td>HR</td>\n",
       "      <td>Healthcare</td>\n",
       "      <td>13</td>\n",
       "      <td>Hybrid</td>\n",
       "      <td>47</td>\n",
       "      <td>7</td>\n",
       "      <td>2</td>\n",
       "      <td>Medium</td>\n",
       "      <td>Depression</td>\n",
       "      <td>No</td>\n",
       "      <td>Decrease</td>\n",
       "      <td>1</td>\n",
       "      <td>Unsatisfied</td>\n",
       "      <td>1</td>\n",
       "      <td>Weekly</td>\n",
       "      <td>Good</td>\n",
       "      <td>Europe</td>\n",
       "    </tr>\n",
       "    <tr>\n",
       "      <th>1</th>\n",
       "      <td>EMP0002</td>\n",
       "      <td>40</td>\n",
       "      <td>Female</td>\n",
       "      <td>Data Scientist</td>\n",
       "      <td>IT</td>\n",
       "      <td>3</td>\n",
       "      <td>Remote</td>\n",
       "      <td>52</td>\n",
       "      <td>4</td>\n",
       "      <td>1</td>\n",
       "      <td>Medium</td>\n",
       "      <td>Anxiety</td>\n",
       "      <td>No</td>\n",
       "      <td>Increase</td>\n",
       "      <td>3</td>\n",
       "      <td>Satisfied</td>\n",
       "      <td>2</td>\n",
       "      <td>Weekly</td>\n",
       "      <td>Good</td>\n",
       "      <td>Asia</td>\n",
       "    </tr>\n",
       "    <tr>\n",
       "      <th>2</th>\n",
       "      <td>EMP0003</td>\n",
       "      <td>59</td>\n",
       "      <td>Non-binary</td>\n",
       "      <td>Software Engineer</td>\n",
       "      <td>Education</td>\n",
       "      <td>22</td>\n",
       "      <td>Hybrid</td>\n",
       "      <td>46</td>\n",
       "      <td>11</td>\n",
       "      <td>5</td>\n",
       "      <td>Medium</td>\n",
       "      <td>Anxiety</td>\n",
       "      <td>No</td>\n",
       "      <td>No Change</td>\n",
       "      <td>4</td>\n",
       "      <td>Unsatisfied</td>\n",
       "      <td>5</td>\n",
       "      <td>NaN</td>\n",
       "      <td>Poor</td>\n",
       "      <td>North America</td>\n",
       "    </tr>\n",
       "    <tr>\n",
       "      <th>3</th>\n",
       "      <td>EMP0004</td>\n",
       "      <td>27</td>\n",
       "      <td>Male</td>\n",
       "      <td>Software Engineer</td>\n",
       "      <td>Finance</td>\n",
       "      <td>20</td>\n",
       "      <td>Onsite</td>\n",
       "      <td>32</td>\n",
       "      <td>8</td>\n",
       "      <td>4</td>\n",
       "      <td>High</td>\n",
       "      <td>Depression</td>\n",
       "      <td>Yes</td>\n",
       "      <td>Increase</td>\n",
       "      <td>3</td>\n",
       "      <td>Unsatisfied</td>\n",
       "      <td>3</td>\n",
       "      <td>NaN</td>\n",
       "      <td>Poor</td>\n",
       "      <td>Europe</td>\n",
       "    </tr>\n",
       "    <tr>\n",
       "      <th>4</th>\n",
       "      <td>EMP0005</td>\n",
       "      <td>49</td>\n",
       "      <td>Male</td>\n",
       "      <td>Sales</td>\n",
       "      <td>Consulting</td>\n",
       "      <td>32</td>\n",
       "      <td>Onsite</td>\n",
       "      <td>35</td>\n",
       "      <td>12</td>\n",
       "      <td>2</td>\n",
       "      <td>High</td>\n",
       "      <td>NaN</td>\n",
       "      <td>Yes</td>\n",
       "      <td>Decrease</td>\n",
       "      <td>3</td>\n",
       "      <td>Unsatisfied</td>\n",
       "      <td>3</td>\n",
       "      <td>Weekly</td>\n",
       "      <td>Average</td>\n",
       "      <td>North America</td>\n",
       "    </tr>\n",
       "  </tbody>\n",
       "</table>\n",
       "</div>"
      ],
      "text/plain": [
       "  Employee_ID  Age      Gender           Job_Role    Industry  \\\n",
       "0     EMP0001   32  Non-binary                 HR  Healthcare   \n",
       "1     EMP0002   40      Female     Data Scientist          IT   \n",
       "2     EMP0003   59  Non-binary  Software Engineer   Education   \n",
       "3     EMP0004   27        Male  Software Engineer     Finance   \n",
       "4     EMP0005   49        Male              Sales  Consulting   \n",
       "\n",
       "   Years_of_Experience Work_Location  Hours_Worked_Per_Week  \\\n",
       "0                   13        Hybrid                     47   \n",
       "1                    3        Remote                     52   \n",
       "2                   22        Hybrid                     46   \n",
       "3                   20        Onsite                     32   \n",
       "4                   32        Onsite                     35   \n",
       "\n",
       "   Number_of_Virtual_Meetings  Work_Life_Balance_Rating Stress_Level  \\\n",
       "0                           7                         2       Medium   \n",
       "1                           4                         1       Medium   \n",
       "2                          11                         5       Medium   \n",
       "3                           8                         4         High   \n",
       "4                          12                         2         High   \n",
       "\n",
       "  Mental_Health_Condition Access_to_Mental_Health_Resources  \\\n",
       "0              Depression                                No   \n",
       "1                 Anxiety                                No   \n",
       "2                 Anxiety                                No   \n",
       "3              Depression                               Yes   \n",
       "4                     NaN                               Yes   \n",
       "\n",
       "  Productivity_Change  Social_Isolation_Rating Satisfaction_with_Remote_Work  \\\n",
       "0            Decrease                        1                   Unsatisfied   \n",
       "1            Increase                        3                     Satisfied   \n",
       "2           No Change                        4                   Unsatisfied   \n",
       "3            Increase                        3                   Unsatisfied   \n",
       "4            Decrease                        3                   Unsatisfied   \n",
       "\n",
       "   Company_Support_for_Remote_Work Physical_Activity Sleep_Quality  \\\n",
       "0                                1            Weekly          Good   \n",
       "1                                2            Weekly          Good   \n",
       "2                                5               NaN          Poor   \n",
       "3                                3               NaN          Poor   \n",
       "4                                3            Weekly       Average   \n",
       "\n",
       "          Region  \n",
       "0         Europe  \n",
       "1           Asia  \n",
       "2  North America  \n",
       "3         Europe  \n",
       "4  North America  "
      ]
     },
     "execution_count": 6,
     "metadata": {},
     "output_type": "execute_result"
    }
   ],
   "source": [
    "# Load the dataset \n",
    "file_path = '../data/raw/Impact_of_Remote_Work_on_Mental_Health.csv'\n",
    "df = pd.read_csv(file_path)\n",
    "\n",
    "# Check the shape and head\n",
    "print(\"Data Shape:\", df.shape)\n",
    "df.head()"
   ]
  },
  {
   "cell_type": "markdown",
   "id": "1921ab8d-f659-43e6-8480-d25b41d34f2a",
   "metadata": {},
   "source": [
    "# Cleaning Data"
   ]
  },
  {
   "cell_type": "markdown",
   "id": "00fda9c6-13e2-4382-a1d5-45d914b5b3d7",
   "metadata": {},
   "source": [
    "## Missing value"
   ]
  },
  {
   "cell_type": "code",
   "execution_count": 9,
   "id": "3acaa6f1-9cdf-43a7-b70e-d0655691d162",
   "metadata": {},
   "outputs": [
    {
     "name": "stdout",
     "output_type": "stream",
     "text": [
      "Missing Values in each column:\n",
      "Employee_ID                             0\n",
      "Age                                     0\n",
      "Gender                                  0\n",
      "Job_Role                                0\n",
      "Industry                                0\n",
      "Years_of_Experience                     0\n",
      "Work_Location                           0\n",
      "Hours_Worked_Per_Week                   0\n",
      "Number_of_Virtual_Meetings              0\n",
      "Work_Life_Balance_Rating                0\n",
      "Stress_Level                            0\n",
      "Mental_Health_Condition              1196\n",
      "Access_to_Mental_Health_Resources       0\n",
      "Productivity_Change                     0\n",
      "Social_Isolation_Rating                 0\n",
      "Satisfaction_with_Remote_Work           0\n",
      "Company_Support_for_Remote_Work         0\n",
      "Physical_Activity                    1629\n",
      "Sleep_Quality                           0\n",
      "Region                                  0\n",
      "dtype: int64\n",
      "Data Types:\n",
      "Employee_ID                          object\n",
      "Age                                   int64\n",
      "Gender                               object\n",
      "Job_Role                             object\n",
      "Industry                             object\n",
      "Years_of_Experience                   int64\n",
      "Work_Location                        object\n",
      "Hours_Worked_Per_Week                 int64\n",
      "Number_of_Virtual_Meetings            int64\n",
      "Work_Life_Balance_Rating              int64\n",
      "Stress_Level                         object\n",
      "Mental_Health_Condition              object\n",
      "Access_to_Mental_Health_Resources    object\n",
      "Productivity_Change                  object\n",
      "Social_Isolation_Rating               int64\n",
      "Satisfaction_with_Remote_Work        object\n",
      "Company_Support_for_Remote_Work       int64\n",
      "Physical_Activity                    object\n",
      "Sleep_Quality                        object\n",
      "Region                               object\n",
      "dtype: object\n"
     ]
    }
   ],
   "source": [
    "# Check for missing values\n",
    "print(\"Missing Values in each column:\")\n",
    "print(df.isnull().sum())\n",
    "\n",
    "# Check the data types of each column\n",
    "print(\"Data Types:\")\n",
    "print(df.dtypes)\n"
   ]
  },
  {
   "cell_type": "code",
   "execution_count": 10,
   "id": "ef6bd372-53e3-42d2-881f-e6e5404a6698",
   "metadata": {},
   "outputs": [
    {
     "name": "stdout",
     "output_type": "stream",
     "text": [
      "Missing Values after Imputation:\n",
      "Employee_ID                          0\n",
      "Age                                  0\n",
      "Gender                               0\n",
      "Job_Role                             0\n",
      "Industry                             0\n",
      "Years_of_Experience                  0\n",
      "Work_Location                        0\n",
      "Hours_Worked_Per_Week                0\n",
      "Number_of_Virtual_Meetings           0\n",
      "Work_Life_Balance_Rating             0\n",
      "Stress_Level                         0\n",
      "Mental_Health_Condition              0\n",
      "Access_to_Mental_Health_Resources    0\n",
      "Productivity_Change                  0\n",
      "Social_Isolation_Rating              0\n",
      "Satisfaction_with_Remote_Work        0\n",
      "Company_Support_for_Remote_Work      0\n",
      "Physical_Activity                    0\n",
      "Sleep_Quality                        0\n",
      "Region                               0\n",
      "dtype: int64\n"
     ]
    }
   ],
   "source": [
    "# Filling missing values in 'Mental_Health_Condition' with the most frequent value ('Burnout')\n",
    "df['Mental_Health_Condition'] = df['Mental_Health_Condition'].fillna(df['Mental_Health_Condition'].mode()[0])\n",
    "\n",
    "# Filling missing values in 'Physical_Activity' with the most frequent value ('Weekly')\n",
    "df['Physical_Activity'] = df['Physical_Activity'].fillna(df['Physical_Activity'].mode()[0])\n",
    "\n",
    "# Verifying that there are no more missing values\n",
    "print(\"Missing Values after Imputation:\")\n",
    "print(df.isnull().sum())\n"
   ]
  },
  {
   "cell_type": "markdown",
   "id": "88cfe720-c77b-4fca-ba8a-1e9160bf6dd6",
   "metadata": {},
   "source": [
    "## Encoder for ML"
   ]
  },
  {
   "cell_type": "code",
   "execution_count": 12,
   "id": "d7c35ec8-a9f1-4655-97ad-e49e863b9cfc",
   "metadata": {},
   "outputs": [
    {
     "name": "stdout",
     "output_type": "stream",
     "text": [
      "Dataset after Encoding:\n"
     ]
    },
    {
     "data": {
      "text/html": [
       "<div>\n",
       "<style scoped>\n",
       "    .dataframe tbody tr th:only-of-type {\n",
       "        vertical-align: middle;\n",
       "    }\n",
       "\n",
       "    .dataframe tbody tr th {\n",
       "        vertical-align: top;\n",
       "    }\n",
       "\n",
       "    .dataframe thead th {\n",
       "        text-align: right;\n",
       "    }\n",
       "</style>\n",
       "<table border=\"1\" class=\"dataframe\">\n",
       "  <thead>\n",
       "    <tr style=\"text-align: right;\">\n",
       "      <th></th>\n",
       "      <th>Employee_ID</th>\n",
       "      <th>Age</th>\n",
       "      <th>Gender</th>\n",
       "      <th>Job_Role</th>\n",
       "      <th>Industry</th>\n",
       "      <th>Years_of_Experience</th>\n",
       "      <th>Work_Location</th>\n",
       "      <th>Hours_Worked_Per_Week</th>\n",
       "      <th>Number_of_Virtual_Meetings</th>\n",
       "      <th>Work_Life_Balance_Rating</th>\n",
       "      <th>Stress_Level</th>\n",
       "      <th>Mental_Health_Condition</th>\n",
       "      <th>Access_to_Mental_Health_Resources</th>\n",
       "      <th>Productivity_Change</th>\n",
       "      <th>Social_Isolation_Rating</th>\n",
       "      <th>Satisfaction_with_Remote_Work</th>\n",
       "      <th>Company_Support_for_Remote_Work</th>\n",
       "      <th>Physical_Activity</th>\n",
       "      <th>Sleep_Quality</th>\n",
       "      <th>Region</th>\n",
       "    </tr>\n",
       "  </thead>\n",
       "  <tbody>\n",
       "    <tr>\n",
       "      <th>0</th>\n",
       "      <td>EMP0001</td>\n",
       "      <td>32</td>\n",
       "      <td>2</td>\n",
       "      <td>2</td>\n",
       "      <td>3</td>\n",
       "      <td>13</td>\n",
       "      <td>Hybrid</td>\n",
       "      <td>47</td>\n",
       "      <td>7</td>\n",
       "      <td>2</td>\n",
       "      <td>2</td>\n",
       "      <td>Depression</td>\n",
       "      <td>0</td>\n",
       "      <td>Decrease</td>\n",
       "      <td>1</td>\n",
       "      <td>2</td>\n",
       "      <td>1</td>\n",
       "      <td>1</td>\n",
       "      <td>1</td>\n",
       "      <td>2</td>\n",
       "    </tr>\n",
       "    <tr>\n",
       "      <th>1</th>\n",
       "      <td>EMP0002</td>\n",
       "      <td>40</td>\n",
       "      <td>0</td>\n",
       "      <td>0</td>\n",
       "      <td>4</td>\n",
       "      <td>3</td>\n",
       "      <td>Remote</td>\n",
       "      <td>52</td>\n",
       "      <td>4</td>\n",
       "      <td>1</td>\n",
       "      <td>2</td>\n",
       "      <td>Anxiety</td>\n",
       "      <td>0</td>\n",
       "      <td>Increase</td>\n",
       "      <td>3</td>\n",
       "      <td>1</td>\n",
       "      <td>2</td>\n",
       "      <td>1</td>\n",
       "      <td>1</td>\n",
       "      <td>1</td>\n",
       "    </tr>\n",
       "    <tr>\n",
       "      <th>2</th>\n",
       "      <td>EMP0003</td>\n",
       "      <td>59</td>\n",
       "      <td>2</td>\n",
       "      <td>6</td>\n",
       "      <td>1</td>\n",
       "      <td>22</td>\n",
       "      <td>Hybrid</td>\n",
       "      <td>46</td>\n",
       "      <td>11</td>\n",
       "      <td>5</td>\n",
       "      <td>2</td>\n",
       "      <td>Anxiety</td>\n",
       "      <td>0</td>\n",
       "      <td>No Change</td>\n",
       "      <td>4</td>\n",
       "      <td>2</td>\n",
       "      <td>5</td>\n",
       "      <td>1</td>\n",
       "      <td>2</td>\n",
       "      <td>3</td>\n",
       "    </tr>\n",
       "    <tr>\n",
       "      <th>3</th>\n",
       "      <td>EMP0004</td>\n",
       "      <td>27</td>\n",
       "      <td>1</td>\n",
       "      <td>6</td>\n",
       "      <td>2</td>\n",
       "      <td>20</td>\n",
       "      <td>Onsite</td>\n",
       "      <td>32</td>\n",
       "      <td>8</td>\n",
       "      <td>4</td>\n",
       "      <td>0</td>\n",
       "      <td>Depression</td>\n",
       "      <td>1</td>\n",
       "      <td>Increase</td>\n",
       "      <td>3</td>\n",
       "      <td>2</td>\n",
       "      <td>3</td>\n",
       "      <td>1</td>\n",
       "      <td>2</td>\n",
       "      <td>2</td>\n",
       "    </tr>\n",
       "    <tr>\n",
       "      <th>4</th>\n",
       "      <td>EMP0005</td>\n",
       "      <td>49</td>\n",
       "      <td>1</td>\n",
       "      <td>5</td>\n",
       "      <td>0</td>\n",
       "      <td>32</td>\n",
       "      <td>Onsite</td>\n",
       "      <td>35</td>\n",
       "      <td>12</td>\n",
       "      <td>2</td>\n",
       "      <td>0</td>\n",
       "      <td>Burnout</td>\n",
       "      <td>1</td>\n",
       "      <td>Decrease</td>\n",
       "      <td>3</td>\n",
       "      <td>2</td>\n",
       "      <td>3</td>\n",
       "      <td>1</td>\n",
       "      <td>0</td>\n",
       "      <td>3</td>\n",
       "    </tr>\n",
       "  </tbody>\n",
       "</table>\n",
       "</div>"
      ],
      "text/plain": [
       "  Employee_ID  Age  Gender  Job_Role  Industry  Years_of_Experience  \\\n",
       "0     EMP0001   32       2         2         3                   13   \n",
       "1     EMP0002   40       0         0         4                    3   \n",
       "2     EMP0003   59       2         6         1                   22   \n",
       "3     EMP0004   27       1         6         2                   20   \n",
       "4     EMP0005   49       1         5         0                   32   \n",
       "\n",
       "  Work_Location  Hours_Worked_Per_Week  Number_of_Virtual_Meetings  \\\n",
       "0        Hybrid                     47                           7   \n",
       "1        Remote                     52                           4   \n",
       "2        Hybrid                     46                          11   \n",
       "3        Onsite                     32                           8   \n",
       "4        Onsite                     35                          12   \n",
       "\n",
       "   Work_Life_Balance_Rating  Stress_Level Mental_Health_Condition  \\\n",
       "0                         2             2              Depression   \n",
       "1                         1             2                 Anxiety   \n",
       "2                         5             2                 Anxiety   \n",
       "3                         4             0              Depression   \n",
       "4                         2             0                 Burnout   \n",
       "\n",
       "   Access_to_Mental_Health_Resources Productivity_Change  \\\n",
       "0                                  0            Decrease   \n",
       "1                                  0            Increase   \n",
       "2                                  0           No Change   \n",
       "3                                  1            Increase   \n",
       "4                                  1            Decrease   \n",
       "\n",
       "   Social_Isolation_Rating  Satisfaction_with_Remote_Work  \\\n",
       "0                        1                              2   \n",
       "1                        3                              1   \n",
       "2                        4                              2   \n",
       "3                        3                              2   \n",
       "4                        3                              2   \n",
       "\n",
       "   Company_Support_for_Remote_Work  Physical_Activity  Sleep_Quality  Region  \n",
       "0                                1                  1              1       2  \n",
       "1                                2                  1              1       1  \n",
       "2                                5                  1              2       3  \n",
       "3                                3                  1              2       2  \n",
       "4                                3                  1              0       3  "
      ]
     },
     "execution_count": 12,
     "metadata": {},
     "output_type": "execute_result"
    }
   ],
   "source": [
    "# Initialize LabelEncoder\n",
    "label_encoder = LabelEncoder()\n",
    "\n",
    "# List of categorical columns to encode\n",
    "categorical_columns = ['Gender', 'Job_Role', 'Industry', \n",
    "                       'Stress_Level', \n",
    "                       'Access_to_Mental_Health_Resources', 'Satisfaction_with_Remote_Work', \n",
    "                       'Physical_Activity', 'Sleep_Quality', 'Region']\n",
    "\n",
    "# Apply LabelEncoder to each categorical column\n",
    "for col in categorical_columns:\n",
    "    df[col] = label_encoder.fit_transform(df[col])\n",
    "\n",
    "# Check the updated dataset after encoding\n",
    "print(\"Dataset after Encoding:\")\n",
    "df.head()\n"
   ]
  },
  {
   "cell_type": "code",
   "execution_count": 13,
   "id": "9ae7a8e1-74cc-46b1-8755-ff011c933c25",
   "metadata": {},
   "outputs": [
    {
     "name": "stdout",
     "output_type": "stream",
     "text": [
      "Work Location Unique Values: ['Hybrid' 'Remote' 'Onsite']\n",
      "Mental Health Condition Unique Values: ['Depression' 'Anxiety' 'Burnout']\n",
      "Mental Health Condition Counts:\n",
      "Mental_Health_Condition\n",
      "Burnout       2476\n",
      "Anxiety       1278\n",
      "Depression    1246\n",
      "Name: count, dtype: int64\n",
      "Stress Level Counts:\n",
      "Stress_Level\n",
      "0    1686\n",
      "2    1669\n",
      "1    1645\n",
      "Name: count, dtype: int64\n"
     ]
    }
   ],
   "source": [
    "# Check the unique values to verify encoding\n",
    "print(\"Work Location Unique Values:\", df['Work_Location'].unique())\n",
    "print(\"Mental Health Condition Unique Values:\", df['Mental_Health_Condition'].unique())\n",
    "\n",
    "# Verify counts for Mental_Health_Condition and Stress_Level after encoding\n",
    "print(\"Mental Health Condition Counts:\")\n",
    "print(df['Mental_Health_Condition'].value_counts())\n",
    "\n",
    "print(\"Stress Level Counts:\")\n",
    "print(df['Stress_Level'].value_counts())\n"
   ]
  },
  {
   "cell_type": "code",
   "execution_count": 14,
   "id": "56ad6f72-5690-4793-b1ca-27dc4c91ce40",
   "metadata": {},
   "outputs": [],
   "source": [
    "df.to_csv('../data/clean/cleaned_data2.csv', index=False)"
   ]
  },
  {
   "cell_type": "code",
   "execution_count": 15,
   "id": "d08eb988-f537-4e4c-aab4-2438a1b8f7eb",
   "metadata": {},
   "outputs": [
    {
     "name": "stdout",
     "output_type": "stream",
     "text": [
      "Mental_Health_Condition  Anxiety  Burnout  Depression\n",
      "Work_Location                                        \n",
      "Hybrid                       428      800         421\n",
      "Onsite                       407      818         412\n",
      "Remote                       443      858         413\n"
     ]
    }
   ],
   "source": [
    "# Create a contingency table of Work Location and Mental Health Condition\n",
    "contingency_table = pd.crosstab(df['Work_Location'], df['Mental_Health_Condition'])\n",
    "\n",
    "# Display the table to check data\n",
    "print(contingency_table)\n"
   ]
  },
  {
   "cell_type": "markdown",
   "id": "b379684b-7f1a-411b-8da9-702fee65ac57",
   "metadata": {},
   "source": [
    "# Hypothesis"
   ]
  },
  {
   "cell_type": "markdown",
   "id": "c166d201-411c-4f29-b362-eaf765095dcc",
   "metadata": {},
   "source": [
    "## General Hypothesis: Work Location has a significant impact on Mental Health\n",
    "\n",
    "We hypothesize that work location (Remote, Hybrid, Onsite) is significantly associated with mental health conditions like anxiety, burnout, and depression.\n",
    "\n",
    "### Chi-Square Test of Independence\n",
    "\n",
    "We'll perform the Chi-Square test to check if the observed mental health conditions significantly differ between work locations."
   ]
  },
  {
   "cell_type": "code",
   "execution_count": 18,
   "id": "3a6e99e2-8596-4629-ada2-9516eb75aa19",
   "metadata": {},
   "outputs": [
    {
     "name": "stdout",
     "output_type": "stream",
     "text": [
      "Chi-Square Statistic: 1.725516230047377\n",
      "P-value: 0.7860775179211476\n",
      "Fail to reject the null hypothesis: There is no significant association between Work Location and Mental Health Conditions.\n"
     ]
    }
   ],
   "source": [
    "\n",
    "# Perform the Chi-Square Test of Independence\n",
    "chi2, p, dof, expected = chi2_contingency(contingency_table)\n",
    "\n",
    "# Results\n",
    "print(f\"Chi-Square Statistic: {chi2}\")\n",
    "print(f\"P-value: {p}\")\n",
    "\n",
    "# Interpretation\n",
    "if p < 0.05:\n",
    "    print(\"Reject the null hypothesis: There is a significant association between Work Location and Mental Health Conditions.\")\n",
    "else:\n",
    "    print(\"Fail to reject the null hypothesis: There is no significant association between Work Location and Mental Health Conditions.\")"
   ]
  },
  {
   "cell_type": "code",
   "execution_count": null,
   "id": "e308b5e1-b32f-45a6-9b96-82fce781174e",
   "metadata": {},
   "outputs": [],
   "source": []
  },
  {
   "cell_type": "markdown",
   "id": "7c5a8be6-1b9c-4056-b47d-b6311eeef52e",
   "metadata": {},
   "source": [
    "## Hypothesis 1: Relationship Between Stress Levels and Work-Life Balance"
   ]
  },
  {
   "cell_type": "markdown",
   "id": "03ae189a-f501-42e8-b255-b4f1a9ea810b",
   "metadata": {},
   "source": [
    "### Hypothesis:"
   ]
  },
  {
   "cell_type": "markdown",
   "id": "26e2544a-af04-4b3f-a1f6-023c118e20a0",
   "metadata": {},
   "source": [
    "Null Hypothesis (H0): There is no significant relationship between Stress Level and Work-Life Balance.\n",
    "\n",
    "Alternative Hypothesis (H1): There is a significant relationship between Stress Level and Work-Life Balance.\n",
    "\n",
    "Test: Use a Chi-Square test to check for independence between stress levels and work-life balance."
   ]
  },
  {
   "cell_type": "code",
   "execution_count": 29,
   "id": "5d213412-0d4e-476d-bb93-f57357fc921c",
   "metadata": {},
   "outputs": [
    {
     "name": "stdout",
     "output_type": "stream",
     "text": [
      "Chi-Square Statistic: 8.35298303598177\n",
      "P-value: 0.3997709095022564\n",
      "Fail to reject the null hypothesis: There is no significant relationship between Stress Level and Work-Life Balance.\n"
     ]
    }
   ],
   "source": [
    "# Creating a contingency table\n",
    "contingency_table_stress_balance = pd.crosstab(df['Stress_Level'], df['Work_Life_Balance_Rating'])\n",
    "\n",
    "# Performing the Chi-Square test\n",
    "chi2_stress_balance, p_stress_balance, dof_stress_balance, expected_stress_balance = chi2_contingency(contingency_table_stress_balance)\n",
    "\n",
    "print(f\"Chi-Square Statistic: {chi2_stress_balance}\")\n",
    "print(f\"P-value: {p_stress_balance}\")\n",
    "\n",
    "# Interpretation\n",
    "if p_stress_balance < 0.05:\n",
    "    print(\"Reject the null hypothesis: There is a significant relationship between Stress Level and Work-Life Balance.\")\n",
    "else:\n",
    "    print(\"Fail to reject the null hypothesis: There is no significant relationship between Stress Level and Work-Life Balance.\")\n"
   ]
  },
  {
   "cell_type": "markdown",
   "id": "7224da39-c496-48cc-b690-34930b51e7cd",
   "metadata": {},
   "source": [
    "Based on the Chi-Square test results, we fail to reject the null hypothesis. This means there is no significant relationship between Work Location (Remote, Onsite, Hybrid) and Mental Health Conditions (Anxiety, Burnout, Depression). Employees' mental health does not appear to be significantly affected by where they work, at least within the limitations of this dataset.\n"
   ]
  },
  {
   "cell_type": "markdown",
   "id": "f78bdc66-10e0-4ec9-92d8-486fde462eb9",
   "metadata": {},
   "source": [
    "## Hypothesis 2: Impact of Remote Work on Anxiety and Burnout\n"
   ]
  },
  {
   "cell_type": "markdown",
   "id": "a69de2ed-a174-4169-8470-62ef09eada51",
   "metadata": {},
   "source": [
    "### Hypothesis:\n"
   ]
  },
  {
   "cell_type": "markdown",
   "id": "a8c3db07-e912-4a23-a9e6-5f9b2f04fee4",
   "metadata": {},
   "source": [
    "Null Hypothesis (H0): There is no significant difference in the occurrence of Anxiety and Burnout across different Work Locations (Remote, Hybrid, Onsite).\n",
    "\n",
    "Alternative Hypothesis (H1): There is a significant difference in the occurrence of Anxiety and Burnout across different Work Locations.\n",
    "\n",
    "Test: Chi-Square test for independence between Work Location and Mental Health Condition (Anxiety, Burnout)."
   ]
  },
  {
   "cell_type": "code",
   "execution_count": 31,
   "id": "123d2da5-4a52-4019-8719-9a789ae6f3a6",
   "metadata": {},
   "outputs": [
    {
     "name": "stdout",
     "output_type": "stream",
     "text": [
      "Chi-Square Statistic: 1.725516230047377\n",
      "P-value: 0.7860775179211476\n",
      "Fail to reject the null hypothesis: There is no significant relationship between Work Location and Mental Health Conditions.\n"
     ]
    }
   ],
   "source": [
    "# Creating a contingency table\n",
    "contingency_table_work_location = pd.crosstab(df['Work_Location'], df['Mental_Health_Condition'])\n",
    "\n",
    "# Performing the Chi-Square test\n",
    "chi2_work_location, p_work_location, dof_work_location, expected_work_location = chi2_contingency(contingency_table_work_location)\n",
    "\n",
    "print(f\"Chi-Square Statistic: {chi2_work_location}\")\n",
    "print(f\"P-value: {p_work_location}\")\n",
    "\n",
    "# Interpretation\n",
    "if p_work_location < 0.05:\n",
    "    print(\"Reject the null hypothesis: There is a significant relationship between Work Location and Mental Health Conditions (Anxiety, Burnout).\")\n",
    "else:\n",
    "    print(\"Fail to reject the null hypothesis: There is no significant relationship between Work Location and Mental Health Conditions.\")\n"
   ]
  },
  {
   "cell_type": "markdown",
   "id": "7a57e012-323f-4149-98c3-f63c07d606f7",
   "metadata": {},
   "source": [
    "The Chi-Square test for Stress Level and Work-Life Balance shows a P-value that is greater than 0.05. Therefore, we fail to reject the null hypothesis. This indicates that there is no significant relationship between Stress Level and Work-Life Balance in this dataset. This suggests that work-life balance is not directly associated with reported stress levels among employees.\n"
   ]
  },
  {
   "cell_type": "markdown",
   "id": "db6eb20e-51db-4737-b3e6-cd47e63fa503",
   "metadata": {},
   "source": [
    "## Hypothesis 3: Productivity and Work-Life Balance"
   ]
  },
  {
   "cell_type": "markdown",
   "id": "a7bea775-4d10-4994-8a5e-38d6485168b4",
   "metadata": {},
   "source": [
    "### Hypothesis: "
   ]
  },
  {
   "cell_type": "markdown",
   "id": "03bad94b-cf7c-4bb4-b996-49dc319eb52a",
   "metadata": {},
   "source": [
    "Null Hypothesis (H0): There is no significant relationship between Productivity Change and Work-Life Balance.\n",
    "\n",
    "Alternative Hypothesis (H1): There is a significant relationship between Productivity Change and Work-Life Balance.\n",
    "\n",
    "Test: Chi-Square test to assess if changes in productivity are related to work-life balance."
   ]
  },
  {
   "cell_type": "code",
   "execution_count": 34,
   "id": "ffef1132-e7a2-42f4-888d-a471599b40e3",
   "metadata": {},
   "outputs": [
    {
     "name": "stdout",
     "output_type": "stream",
     "text": [
      "Chi-Square Statistic: 3.5894546446202544\n",
      "P-value: 0.892137278325681\n",
      "Fail to reject the null hypothesis: There is no significant relationship between Productivity Change and Work-Life Balance.\n"
     ]
    }
   ],
   "source": [
    "# Creating a contingency table\n",
    "contingency_table_productivity_balance = pd.crosstab(df['Productivity_Change'], df['Work_Life_Balance_Rating'])\n",
    "\n",
    "# Performing the Chi-Square test\n",
    "chi2_productivity_balance, p_productivity_balance, dof_productivity_balance, expected_productivity_balance = chi2_contingency(contingency_table_productivity_balance)\n",
    "\n",
    "print(f\"Chi-Square Statistic: {chi2_productivity_balance}\")\n",
    "print(f\"P-value: {p_productivity_balance}\")\n",
    "\n",
    "# Interpretation\n",
    "if p_productivity_balance < 0.05:\n",
    "    print(\"Reject the null hypothesis: There is a significant relationship between Productivity Change and Work-Life Balance.\")\n",
    "else:\n",
    "    print(\"Fail to reject the null hypothesis: There is no significant relationship between Productivity Change and Work-Life Balance.\")\n"
   ]
  },
  {
   "cell_type": "markdown",
   "id": "2f10d470-6e43-4dcb-851a-812e6855b389",
   "metadata": {},
   "source": [
    "The Chi-Square test result for the relationship between Productivity Change and Work-Life Balance shows a P-value greater than 0.05. We fail to reject the null hypothesis, meaning that there is no significant relationship between Productivity Change and Work-Life Balance in this dataset. Employees’ productivity changes do not appear to be directly tied to their work-life balance.\n"
   ]
  },
  {
   "cell_type": "code",
   "execution_count": null,
   "id": "fb5bf2cc-24e8-46c6-8d50-aeb0eb2b4c3b",
   "metadata": {},
   "outputs": [],
   "source": []
  }
 ],
 "metadata": {
  "kernelspec": {
   "display_name": "venv",
   "language": "python",
   "name": "venv"
  },
  "language_info": {
   "codemirror_mode": {
    "name": "ipython",
    "version": 3
   },
   "file_extension": ".py",
   "mimetype": "text/x-python",
   "name": "python",
   "nbconvert_exporter": "python",
   "pygments_lexer": "ipython3",
   "version": "3.12.4"
  }
 },
 "nbformat": 4,
 "nbformat_minor": 5
}
